{
 "cells": [
  {
   "cell_type": "code",
   "execution_count": 1,
   "id": "b9bc3ce9",
   "metadata": {},
   "outputs": [],
   "source": [
    "import pandas as pd\n",
    "import numpy as np"
   ]
  },
  {
   "cell_type": "code",
   "execution_count": 10,
   "id": "f68e2c5f",
   "metadata": {},
   "outputs": [],
   "source": [
    "# Ubah titik terakhir menjadi koma\n",
    "def format_last_dot_to_comma(value):\n",
    "    parts = value.rsplit('.', 1)  # pisahkan berdasarkan titik dari belakang\n",
    "    return ','.join(parts) if len(parts) == 2 else value"
   ]
  },
  {
   "cell_type": "code",
   "execution_count": null,
   "id": "1f5e72b8",
   "metadata": {},
   "outputs": [
    {
     "name": "stdout",
     "output_type": "stream",
     "text": [
      "     id  latitude      longitude  curah_hujan_mm  kemiringan_persen  \\\n",
      "0   NaN  0.894087  1.231.225,609            2558                  7   \n",
      "1   NaN  0.896517  1.231.447,178            2642                  3   \n",
      "2   NaN  0.920340  1.231.211,998            2588                  5   \n",
      "3   NaN  0.910363  1.231.008,937            3022                  8   \n",
      "4   NaN  0.921370  1.231.327,501            2697                 10   \n",
      "..   ..       ...            ...             ...                ...   \n",
      "102 NaN  0.885318  1.236.297,446            3177                  7   \n",
      "103 NaN  0.877609  1.236.516,328            2738                  3   \n",
      "104 NaN  0.843426  1.235.740,085            2688                  5   \n",
      "105 NaN  0.879945  1.235.036,874            2994                  6   \n",
      "106 NaN  0.858870  1.234.569,718            3079                  4   \n",
      "\n",
      "     banjir_historis           desa  \n",
      "0                  4    Batubantayo  \n",
      "1                  0      Batutajam  \n",
      "2                  1           Buko  \n",
      "3                  5   Buko Selatan  \n",
      "4                  1     Buko Utara  \n",
      "..               ...            ...  \n",
      "102                3     Sangkub IV  \n",
      "103                4  Sangkub Timur  \n",
      "104                3       Sidodadi  \n",
      "105                4    Suka Makmur  \n",
      "106                4     Tombolango  \n",
      "\n",
      "[107 rows x 7 columns]\n"
     ]
    }
   ],
   "source": [
    "data = pd.read_csv('../dataset/108datadesa.csv')\n",
    "data['longitude'] = data['longitude'].astype(str).str.replace(',', '.', regex=False)\n",
    "\n",
    "data['longitude'] = data['longitude'].apply(format_last_dot_to_comma)\n",
    "data.to_csv('../dataset/fixxx_dataaa.csv', index=False) \n",
    "\n"
   ]
  }
 ],
 "metadata": {
  "kernelspec": {
   "display_name": "Python 3",
   "language": "python",
   "name": "python3"
  },
  "language_info": {
   "codemirror_mode": {
    "name": "ipython",
    "version": 3
   },
   "file_extension": ".py",
   "mimetype": "text/x-python",
   "name": "python",
   "nbconvert_exporter": "python",
   "pygments_lexer": "ipython3",
   "version": "3.12.1"
  }
 },
 "nbformat": 4,
 "nbformat_minor": 5
}
